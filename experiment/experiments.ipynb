{
 "cells": [
  {
   "cell_type": "code",
   "execution_count": 1,
   "id": "59afc1ee",
   "metadata": {},
   "outputs": [],
   "source": [
    "# 初始化 MySQL 操作类\n",
    "mysql_op = MySQLOperation(host=\"localhost\", user=\"root\", password=\"password\", database=\"your_database\")\n",
    "\n",
    "# 创建表\n",
    "create_table_query = \"\"\"\n",
    "CREATE TABLE IF NOT EXISTS example_table (\n",
    "    id INT AUTO_INCREMENT PRIMARY KEY,\n",
    "    name VARCHAR(100),\n",
    "    age INT\n",
    ")\n",
    "\"\"\"\n",
    "\n",
    "# 执行创建表的 SQL 查询\n",
    "mysql_op.execute_query(create_table_query)\n",
    "\n",
    "# 确认表格创建后插入一些数据\n",
    "record = {\"name\": \"Alice\", \"age\": 30}\n",
    "mysql_op.insert_record(record, \"example_table\")\n",
    "\n",
    "# 查询插入的数据\n",
    "result = mysql_op.fetch_records(\"SELECT * FROM example_table\")\n",
    "print(result)\n",
    "\n",
    "\n"
   ]
  }
 ],
 "metadata": {
  "kernelspec": {
   "display_name": "Python 3 (ipykernel)",
   "language": "python",
   "name": "python3"
  },
  "language_info": {
   "codemirror_mode": {
    "name": "ipython",
    "version": 3
   },
   "file_extension": ".py",
   "mimetype": "text/x-python",
   "name": "python",
   "nbconvert_exporter": "python",
   "pygments_lexer": "ipython3",
   "version": "3.12.4"
  }
 },
 "nbformat": 4,
 "nbformat_minor": 5
}
